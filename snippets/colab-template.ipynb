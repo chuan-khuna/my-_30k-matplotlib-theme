{
  "cells": [
    {
      "cell_type": "markdown",
      "metadata": {
        "id": "Mha6qYCjrfsb"
      },
      "source": [
        "# Prepare ENV"
      ]
    },
    {
      "cell_type": "code",
      "execution_count": null,
      "metadata": {
        "colab": {
          "base_uri": "https://localhost:8080/"
        },
        "id": "GhAYorv0rVph",
        "outputId": "c9f86aa9-faae-4278-d4ad-89dc76de6c64"
      },
      "outputs": [],
      "source": [
        "import os\n",
        "from google.colab import drive\n",
        "\n",
        "drive.mount('/content/gdrive')\n",
        "google_drive_path = \"/content/gdrive/MyDrive/\"\n",
        "\n",
        "# change directory to the project path\n",
        "project_path = \"/Colab Notebooks/...../\"\n",
        "os.chdir(google_drive_path + project_path)\n",
        "os.listdir(\"./\")"
      ]
    },
    {
      "cell_type": "code",
      "execution_count": null,
      "metadata": {
        "id": "sfBIhpTvrzv5"
      },
      "outputs": [],
      "source": [
        "# !rm -rf tmp && git clone https://github.com/chuan-khuna/my-python-utils.git tmp && cp -R tmp/utils ./ && cp -R tmp/fonts ./ && rm -rf tmp"
      ]
    },
    {
      "cell_type": "code",
      "execution_count": null,
      "metadata": {
        "colab": {
          "base_uri": "https://localhost:8080/"
        },
        "id": "04XnpNvDrpoh",
        "outputId": "a941a44b-f1e3-44b8-8fdd-9bf9a12987a4"
      },
      "outputs": [],
      "source": [
        "!pip install matplotlib seaborn -Uq\n",
        "!pip install pythainlp -q\n",
        "!pip install keras-tuner -q\n",
        "!pip install pyYAML -q\n",
        "\n",
        "!pip install tensorflow -Uq\n",
        "!pip install tensorflow-io[tensorflow] tf2onnx onnxruntime -Uq"
      ]
    },
    {
      "cell_type": "code",
      "execution_count": null,
      "metadata": {
        "id": "qIa4lRFDsUez"
      },
      "outputs": [],
      "source": [
        "%load_ext tensorboard"
      ]
    },
    {
      "cell_type": "markdown",
      "metadata": {
        "id": "LsYaty16r4dS"
      },
      "source": [
        "# Load Libraries"
      ]
    },
    {
      "cell_type": "code",
      "execution_count": null,
      "metadata": {
        "id": "hn9Hbe6xr1Yc"
      },
      "outputs": [],
      "source": [
        "os.listdir(\"./\")"
      ]
    },
    {
      "cell_type": "code",
      "execution_count": null,
      "metadata": {
        "id": "rInmghcrsYwA"
      },
      "outputs": [],
      "source": [
        "import numpy as np\n",
        "import pandas as pd\n",
        "\n",
        "import matplotlib.pyplot as plt\n",
        "import matplotlib\n",
        "from matplotlib import patheffects\n",
        "import seaborn as sns"
      ]
    },
    {
      "cell_type": "code",
      "execution_count": null,
      "metadata": {
        "id": "5HFB0zGAsc1M"
      },
      "outputs": [],
      "source": [
        "import json\n",
        "import yaml\n",
        "import re\n",
        "from tqdm.notebook import trange, tqdm\n",
        "import datetime"
      ]
    },
    {
      "cell_type": "code",
      "execution_count": null,
      "metadata": {
        "id": "No3ADFpose1D"
      },
      "outputs": [],
      "source": [
        "import tensorflow as tf\n",
        "import tensorflow_datasets as tfds\n",
        "import keras_tuner\n",
        "\n",
        "seed_ = 20200218\n",
        "tf.random.set_seed(seed_)\n",
        "np.random.seed(seed_)\n",
        "\n",
        "from sklearn.metrics import confusion_matrix, classification_report"
      ]
    },
    {
      "cell_type": "code",
      "execution_count": null,
      "metadata": {
        "id": "E9mRsviHshEx"
      },
      "outputs": [],
      "source": [
        "from utils.vis_utils import *\n",
        "from utils.preprocessing.text.text_cleaner import TextCleaner\n",
        "from utils.preprocessing.text.tweet_cleaner import TweetCleaner\n",
        "\n",
        "mpl_import_fonts(\"./fonts/\")"
      ]
    },
    {
      "cell_type": "markdown",
      "metadata": {
        "id": "wixh3L9RtIQQ"
      },
      "source": [
        "## check lib versions //raise error to restart runtime"
      ]
    },
    {
      "cell_type": "code",
      "execution_count": null,
      "metadata": {
        "id": "-ekKpuWJslMZ"
      },
      "outputs": [],
      "source": [
        "def check_version(version_str, major, minor):\n",
        "    print(version_str)\n",
        "    version = [int(i) for i in version_str.split('.')]\n",
        "    assert version[0] >= major and version[1] >= minor\n",
        "\n",
        "check_version(matplotlib.__version__, 3, 6)\n",
        "check_version(sns.__version__, 0, 12)\n",
        "check_version(tf.__version__, 2, 11)\n",
        "\n",
        "del check_version\n",
        "\n",
        "matplotlib.__version__, sns.__version__, tf.__version__"
      ]
    },
    {
      "cell_type": "markdown",
      "metadata": {
        "id": "1e4EEd_otSUI"
      },
      "source": [
        "## View hardware spec"
      ]
    },
    {
      "cell_type": "code",
      "execution_count": null,
      "metadata": {
        "id": "tm6Fh6P7s0mY"
      },
      "outputs": [],
      "source": [
        "!nvidia-smi"
      ]
    },
    {
      "cell_type": "code",
      "execution_count": null,
      "metadata": {
        "id": "z0_BDtD4s6iY"
      },
      "outputs": [],
      "source": [
        "# use mixed precision\n",
        "\n",
        "policy = tf.keras.mixed_precision.Policy('mixed_float16')\n",
        "tf.keras.mixed_precision.set_global_policy(policy)\n",
        "\n",
        "print('Compute dtype: %s' % policy.compute_dtype)\n",
        "print('Variable dtype: %s' % policy.variable_dtype)"
      ]
    },
    {
      "cell_type": "markdown",
      "metadata": {
        "id": "hS4gwhwate88"
      },
      "source": [
        "# Code"
      ]
    },
    {
      "cell_type": "code",
      "execution_count": null,
      "metadata": {
        "id": "13qrdqn5tfkl"
      },
      "outputs": [],
      "source": []
    }
  ],
  "metadata": {
    "colab": {
      "provenance": [],
      "toc_visible": true
    },
    "kernelspec": {
      "display_name": "Python 3",
      "name": "python3"
    },
    "language_info": {
      "name": "python"
    }
  },
  "nbformat": 4,
  "nbformat_minor": 0
}
