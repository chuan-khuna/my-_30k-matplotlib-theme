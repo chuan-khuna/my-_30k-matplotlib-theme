{
 "cells": [
  {
   "cell_type": "code",
   "execution_count": 8,
   "id": "ac6307ed-4473-43cd-b98d-93e5f5731407",
   "metadata": {},
   "outputs": [],
   "source": [
    "import unittest\n",
    "import requests\n",
    "\n",
    "from unittest.mock import patch\n",
    "from unittest.mock import Mock, MagicMock\n",
    "\n",
    "# https://github.com/chmp/ipytest\n",
    "import pytest\n",
    "import ipytest\n",
    "ipytest.autoconfig()"
   ]
  },
  {
   "cell_type": "code",
   "execution_count": 2,
   "id": "3db38198-7faa-411f-b297-abbbb226f253",
   "metadata": {},
   "outputs": [],
   "source": [
    "def request_func(url):\n",
    "    try:\n",
    "        res = requests.get(url)\n",
    "        res_json = res.json()\n",
    "        print(res_json)\n",
    "        return res_json\n",
    "    except Exception as e:\n",
    "        print(e)\n",
    "        return {}"
   ]
  },
  {
   "cell_type": "code",
   "execution_count": 3,
   "id": "8a8c8fd3-f00b-47f0-9ba0-993f93ed2366",
   "metadata": {},
   "outputs": [
    {
     "name": "stderr",
     "output_type": "stream",
     "text": [
      "test_request_func (__main__.TestNotebook) ... ok\n",
      "test_request_func_should_handle_all_errors (__main__.TestNotebook) ... ok\n",
      "\n",
      "----------------------------------------------------------------------\n",
      "Ran 2 tests in 0.006s\n",
      "\n",
      "OK\n"
     ]
    },
    {
     "name": "stdout",
     "output_type": "stream",
     "text": [
      "{'hello': 'world'}\n",
      "Error\n"
     ]
    },
    {
     "data": {
      "text/plain": [
       "<unittest.main.TestProgram at 0x1068e5060>"
      ]
     },
     "execution_count": 3,
     "metadata": {},
     "output_type": "execute_result"
    }
   ],
   "source": [
    "class TestNotebook(unittest.TestCase):\n",
    "    \n",
    "    # trigger Error\n",
    "    # refactor this how to raise side effect?\n",
    "    @patch('requests.get', return_value=requests.Response())\n",
    "    @patch('requests.Response.json', side_effect=Exception('Error'))\n",
    "    def test_request_func_should_handle_all_errors(self, m1, m2):\n",
    "        result = request_func(\"someurl\")\n",
    "        assert result == {}\n",
    "\n",
    "    @patch('requests.get', return_value=requests.Response())\n",
    "    @patch('requests.Response.json', return_value={'hello': 'world'})\n",
    "    def test_request_func(self, mock1, mock2):\n",
    "        result = request_func(\"someurl\")\n",
    "        assert result == {'hello': 'world'}\n",
    "        \n",
    "unittest.main(argv=[''], verbosity=2, exit=False)"
   ]
  },
  {
   "cell_type": "code",
   "execution_count": 4,
   "id": "a79472a9-bd47-414e-a744-1ffbd968788d",
   "metadata": {},
   "outputs": [
    {
     "data": {
      "text/plain": [
       "(2, 1)"
      ]
     },
     "execution_count": 4,
     "metadata": {},
     "output_type": "execute_result"
    }
   ],
   "source": [
    "mock_obj = Mock(side_effect=[2, 1, Exception])\n",
    "mock_obj(), mock_obj()"
   ]
  },
  {
   "cell_type": "code",
   "execution_count": 13,
   "id": "98b349a5-fa5f-4cd8-84bd-60bea7e5903e",
   "metadata": {},
   "outputs": [],
   "source": [
    "def hello():\n",
    "    return \"hello world\""
   ]
  },
  {
   "cell_type": "code",
   "execution_count": 14,
   "id": "726de800-c1a3-43de-aa89-286440fdd014",
   "metadata": {},
   "outputs": [
    {
     "name": "stdout",
     "output_type": "stream",
     "text": [
      "\u001b[32m.\u001b[0m\u001b[32m                                                                                            [100%]\u001b[0m\n",
      "\u001b[32m\u001b[32m\u001b[1m1 passed\u001b[0m\u001b[32m in 0.00s\u001b[0m\u001b[0m\n"
     ]
    }
   ],
   "source": [
    "%%ipytest\n",
    "\n",
    "def test_example():\n",
    "    assert hello() == \"hello world\""
   ]
  },
  {
   "cell_type": "code",
   "execution_count": null,
   "id": "da761cb9-2e4c-4039-93d4-3471c7d98699",
   "metadata": {},
   "outputs": [],
   "source": []
  }
 ],
 "metadata": {
  "kernelspec": {
   "display_name": "Python 3 (ipykernel)",
   "language": "python",
   "name": "python3"
  },
  "language_info": {
   "codemirror_mode": {
    "name": "ipython",
    "version": 3
   },
   "file_extension": ".py",
   "mimetype": "text/x-python",
   "name": "python",
   "nbconvert_exporter": "python",
   "pygments_lexer": "ipython3",
   "version": "3.10.5"
  },
  "vscode": {
   "interpreter": {
    "hash": "c6e4e9f98eb68ad3b7c296f83d20e6de614cb42e90992a65aa266555a3137d0d"
   }
  }
 },
 "nbformat": 4,
 "nbformat_minor": 5
}
